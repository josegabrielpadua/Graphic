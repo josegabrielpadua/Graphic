{
  "nbformat": 4,
  "nbformat_minor": 0,
  "metadata": {
    "colab": {
      "provenance": []
    },
    "kernelspec": {
      "name": "python3",
      "display_name": "Python 3"
    },
    "language_info": {
      "name": "python"
    }
  },
  "cells": [
    {
      "cell_type": "code",
      "execution_count": 28,
      "metadata": {
        "id": "0bfloQPv0JCo"
      },
      "outputs": [],
      "source": [
        "#Importando as bibliotecas necessárias\n",
        "\n",
        "import matplotlib.pyplot as plt\n",
        "import pandas as pd"
      ]
    },
    {
      "cell_type": "code",
      "source": [
        "#Lendo arquivos do excel\n",
        "\n",
        "df1 = pd.read_excel(\"Aracaju.xlsx\")\n",
        "df2 = pd.read_excel(\"Fortaleza.xlsx\")\n",
        "df3 = pd.read_excel(\"Natal.xlsx\")\n",
        "df4 = pd.read_excel(\"Recife.xlsx\")\n",
        "df5 = pd.read_excel(\"Salvador.xlsx\")"
      ],
      "metadata": {
        "id": "iaLbo4Nl0wcw"
      },
      "execution_count": 29,
      "outputs": []
    },
    {
      "cell_type": "code",
      "source": [
        "#Concatenando e convertendo coluna data para o tipo datatime\n",
        "\n",
        "df_todos = pd.concat([df1, df2, df3, df4, df5])\n",
        "df_todos[\"Data\"] = pd.to_datetime(df_todos[\"Data\"])\n",
        "print(df_todos)"
      ],
      "metadata": {
        "colab": {
          "base_uri": "https://localhost:8080/"
        },
        "id": "8-wUguvgtPZs",
        "outputId": "a550c720-b934-4f73-ee60-b5beabedbc70"
      },
      "execution_count": 30,
      "outputs": [
        {
          "output_type": "stream",
          "name": "stdout",
          "text": [
            "       Cidade       Data  Vendas  LojaID  Qtde\n",
            "0     Aracaju 2018-01-01  142.00    1520     1\n",
            "1     Aracaju 2018-01-01   14.21    1522     6\n",
            "2     Aracaju 2018-01-01   71.55    1520     1\n",
            "3     Aracaju 2018-01-01    3.01    1521     7\n",
            "4     Aracaju 2018-01-01   24.51    1522     8\n",
            "..        ...        ...     ...     ...   ...\n",
            "235  Salvador 2019-01-03   41.84    1034     1\n",
            "236  Salvador 2019-01-03  126.29    1035     3\n",
            "237  Salvador 2019-01-03   38.06    1036     3\n",
            "238  Salvador 2019-01-03  139.64    1035     1\n",
            "239  Salvador 2019-01-03  161.41    1037     3\n",
            "\n",
            "[894 rows x 5 columns]\n"
          ]
        }
      ]
    },
    {
      "cell_type": "code",
      "source": [
        "#Criando uma coluna de receita gerada.\n",
        "\n",
        "df_todos[\"LojaID\"] = df_todos[\"LojaID\"].astype(\"object\")\n",
        "df_todos[\"Receita\"] = df_todos[\"Vendas\"].mul(df_todos[\"Qtde\"])\n",
        "print(df_todos)"
      ],
      "metadata": {
        "colab": {
          "base_uri": "https://localhost:8080/"
        },
        "id": "sry4voeytb1y",
        "outputId": "76aeec8e-34c0-4be0-9951-163d752de3b9"
      },
      "execution_count": 31,
      "outputs": [
        {
          "output_type": "stream",
          "name": "stdout",
          "text": [
            "       Cidade       Data  Vendas LojaID  Qtde  Receita\n",
            "0     Aracaju 2018-01-01  142.00   1520     1   142.00\n",
            "1     Aracaju 2018-01-01   14.21   1522     6    85.26\n",
            "2     Aracaju 2018-01-01   71.55   1520     1    71.55\n",
            "3     Aracaju 2018-01-01    3.01   1521     7    21.07\n",
            "4     Aracaju 2018-01-01   24.51   1522     8   196.08\n",
            "..        ...        ...     ...    ...   ...      ...\n",
            "235  Salvador 2019-01-03   41.84   1034     1    41.84\n",
            "236  Salvador 2019-01-03  126.29   1035     3   378.87\n",
            "237  Salvador 2019-01-03   38.06   1036     3   114.18\n",
            "238  Salvador 2019-01-03  139.64   1035     1   139.64\n",
            "239  Salvador 2019-01-03  161.41   1037     3   484.23\n",
            "\n",
            "[894 rows x 6 columns]\n"
          ]
        }
      ]
    },
    {
      "cell_type": "code",
      "source": [
        "#Criando colunas de ano, dia e mês\n",
        "\n",
        "df_todos[\"Ano\"] = df_todos[\"Data\"].dt.year\n",
        "df_todos[\"Mês\"] = df_todos[\"Data\"].dt.month\n",
        "df_todos[\"Dia\"] = df_todos[\"Data\"].dt.day\n",
        "print(df_todos)"
      ],
      "metadata": {
        "colab": {
          "base_uri": "https://localhost:8080/"
        },
        "id": "oopz5ITnt9c7",
        "outputId": "3226e04f-ddfc-406c-a1a8-69db8a3ff26e"
      },
      "execution_count": 32,
      "outputs": [
        {
          "output_type": "stream",
          "name": "stdout",
          "text": [
            "       Cidade       Data  Vendas LojaID  Qtde  Receita   Ano  Mês  Dia\n",
            "0     Aracaju 2018-01-01  142.00   1520     1   142.00  2018    1    1\n",
            "1     Aracaju 2018-01-01   14.21   1522     6    85.26  2018    1    1\n",
            "2     Aracaju 2018-01-01   71.55   1520     1    71.55  2018    1    1\n",
            "3     Aracaju 2018-01-01    3.01   1521     7    21.07  2018    1    1\n",
            "4     Aracaju 2018-01-01   24.51   1522     8   196.08  2018    1    1\n",
            "..        ...        ...     ...    ...   ...      ...   ...  ...  ...\n",
            "235  Salvador 2019-01-03   41.84   1034     1    41.84  2019    1    3\n",
            "236  Salvador 2019-01-03  126.29   1035     3   378.87  2019    1    3\n",
            "237  Salvador 2019-01-03   38.06   1036     3   114.18  2019    1    3\n",
            "238  Salvador 2019-01-03  139.64   1035     1   139.64  2019    1    3\n",
            "239  Salvador 2019-01-03  161.41   1037     3   484.23  2019    1    3\n",
            "\n",
            "[894 rows x 9 columns]\n"
          ]
        }
      ]
    },
    {
      "cell_type": "code",
      "source": [
        "#Filtrando as vendas do dia 2 de março de 2019 na cidade de Fortaleza e Fazendo um gráfico (Relatório).\n",
        "#Relação de LojaID x Receita gerada\n",
        "#Podendo mudar o filtro à vontade.\n",
        "#Se for inserido \"0\" na variável dia, será considerado apenas o mês e ano.\n",
        "#Se for inserido \"0\" na variável mês, será considerado apenas o ano, independente do valor inserido na variável dia.\n",
        "\n",
        "ano = 2019\n",
        "mes = 3\n",
        "dia = 2\n",
        "cidade = \"Fortaleza\"\n",
        "\n",
        "data: str\n",
        "data2: str\n",
        "\n",
        "if dia < 10:\n",
        "    data = '0'\n",
        "else:\n",
        "    data = \"\"\n",
        "if mes < 10:\n",
        "    data2 = '0'\n",
        "else:\n",
        "    data2 = \"\"\n",
        "\n",
        "\n",
        "df2_filtro = df_todos.loc[(df_todos[\"Data\"].dt.year == ano) & (df_todos[\"Data\"].dt.month == mes) & (df_todos[\"Data\"].dt.day == dia)]\n",
        "df2_filtro = df2_filtro.loc[df2_filtro[\"Cidade\"] == f\"{cidade}\"]\n",
        "\n",
        "msg_toda = f\"Receita gerada em {data}{dia}/{data2}{mes}/{ano} em {cidade}\"\n",
        "\n",
        "if dia == 0:\n",
        "    msg_toda = f\"Receita gerada em {data2}{mes}/{ano} em {cidade}\"\n",
        "    df2_filtro = df_todos.loc[(df_todos[\"Data\"].dt.year == ano) & (df_todos[\"Data\"].dt.month == mes)]\n",
        "    df2_filtro = df2_filtro.loc[df2_filtro[\"Cidade\"] == f\"{cidade}\"]\n",
        "    if mes == 0:\n",
        "        msg_toda = f\"Receita gerada em {ano} em {cidade}\"\n",
        "        df2_filtro = df_todos.loc[(df_todos[\"Data\"].dt.year == ano)]\n",
        "        df2_filtro = df2_filtro.loc[df2_filtro[\"Cidade\"] == f\"{cidade}\"]"
      ],
      "metadata": {
        "id": "QRVAvgTzuITz"
      },
      "execution_count": 33,
      "outputs": []
    },
    {
      "cell_type": "code",
      "source": [
        "#Montando e personalizando o gráfico\n",
        "\n",
        "df2_filtro.groupby(\"LojaID\")[\"Receita\"].sum().plot.bar(title=f\"{msg_toda}\", color=\"hotpink\")\n",
        "plt.style.use(\"ggplot\")\n",
        "plt.legend(loc='best')\n",
        "plt.xlabel(\"LojaID\", color=\"darkblue\", fontsize='large')\n",
        "plt.ylabel(\"Receita\", color=\"darkblue\", fontsize='large')\n",
        "plt.show()\n"
      ],
      "metadata": {
        "colab": {
          "base_uri": "https://localhost:8080/",
          "height": 307
        },
        "id": "CSGzG91_uRCq",
        "outputId": "0abe35f7-2323-4879-921f-308f806aca3d"
      },
      "execution_count": 34,
      "outputs": [
        {
          "output_type": "display_data",
          "data": {
            "text/plain": [
              "<Figure size 432x288 with 1 Axes>"
            ],
            "image/png": "[encoded data removed]"
          },
          "metadata": {
            "needs_background": "light"
          }
        }
      ]
    }
  ]
}